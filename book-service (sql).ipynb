{
 "cells": [
  {
   "cell_type": "markdown",
   "id": "aa2a5dc4",
   "metadata": {},
   "source": [
    "# Проект \"Сервис книг\""
   ]
  },
  {
   "cell_type": "markdown",
   "id": "3cd88d23",
   "metadata": {},
   "source": [
    "## Введение"
   ]
  },
  {
   "cell_type": "markdown",
   "id": "a7987509",
   "metadata": {},
   "source": [
    "### Описание проекта"
   ]
  },
  {
   "cell_type": "markdown",
   "id": "a4d8cf04",
   "metadata": {},
   "source": [
    "Ваша компания решила быть на волне и купила крупный сервис для чтения книг по подписке. Ваша первая задача как аналитика — проанализировать базу данных.\n",
    "\n",
    "\n",
    "В ней — информация о книгах, издательствах, авторах, а также пользовательские обзоры книг. Эти данные помогут сформулировать ценностное предложение для нового продукта."
   ]
  },
  {
   "cell_type": "markdown",
   "id": "de417ec4",
   "metadata": {},
   "source": [
    "### Цель проекта"
   ]
  },
  {
   "cell_type": "markdown",
   "id": "45552f97",
   "metadata": {},
   "source": [
    "Изучить данные и дать рекомендации по ценностному предложению для нового продукта."
   ]
  },
  {
   "cell_type": "markdown",
   "id": "dcaf0892",
   "metadata": {},
   "source": [
    "### Ход решения"
   ]
  },
  {
   "cell_type": "markdown",
   "id": "afa86316",
   "metadata": {},
   "source": [
    "1. Посчитать, сколько книг вышло после 1 января 2000 года;\n",
    "2. Для каждой книги посчитать количество обзоров и среднюю оценку;\n",
    "3. Определить издательство, которое выпустило наибольшее число книг толще 50 страниц, чтобы исключить из анализа брошюры;\n",
    "4. Определить автора с самой высокой средней оценкой книг для книг с количеством оценок 50 и более;\n",
    "5. Посчитать среднее количество обзоров от пользователей, которые поставили больше 50 оценок."
   ]
  },
  {
   "cell_type": "markdown",
   "id": "935c3aaf",
   "metadata": {},
   "source": [
    "### Описание данных"
   ]
  },
  {
   "cell_type": "markdown",
   "id": "3ad26d5e",
   "metadata": {},
   "source": [
    "**Таблица books**\\\n",
    "Содержит данные о книгах:\n",
    "1. book_id — идентификатор книги;\n",
    "2. author_id — идентификатор автора;\n",
    "3. title — название книги;\n",
    "4. num_pages — количество страниц;\n",
    "5. publication_date — дата публикации книги;\n",
    "6. publisher_id — идентификатор издателя.\n",
    "\n",
    "\n",
    "**Таблица authors**\\\n",
    "Содержит данные об авторах:\n",
    "1. author_id — идентификатор автора;\n",
    "2. author — имя автора.\n",
    "\n",
    "\n",
    "**Таблица publishers**\\\n",
    "Содержит данные об издательствах:\n",
    "1. publisher_id — идентификатор издательства;\n",
    "2. publisher — название издательства;\n",
    "\n",
    "\n",
    "**Таблица ratings**\\\n",
    "Содержит данные о пользовательских оценках книг:\n",
    "1. rating_id — идентификатор оценки;\n",
    "2. book_id — идентификатор книги;\n",
    "3. username — имя пользователя, оставившего оценку;\n",
    "4. rating — оценка книги.\n",
    "\n",
    "\n",
    "**Таблица reviews**\n",
    "Содержит данные о пользовательских обзорах:\n",
    "1. review_id — идентификатор обзора;\n",
    "2. book_id — идентификатор книги;\n",
    "3. username — имя автора обзора;\n",
    "4. text — текст обзора."
   ]
  },
  {
   "cell_type": "markdown",
   "id": "48a814a2",
   "metadata": {},
   "source": [
    "## Изучение данных"
   ]
  },
  {
   "cell_type": "code",
   "execution_count": 1,
   "id": "5a5f5968",
   "metadata": {},
   "outputs": [],
   "source": [
    "# импортируем библиотеки\n",
    "import pandas as pd \n",
    "from sqlalchemy import create_engine \n",
    "# устанавливаем параметры\n",
    "db_config = {'user': 'praktikum_student', # имя пользователя\n",
    "'pwd': 'Sdf4$2;d-d30pp', # пароль\n",
    "'host': 'rc1b-wcoijxj3yxfsf3fs.mdb.yandexcloud.net', \n",
    "'port': 6432, # порт подключения\n",
    "'db': 'data-analyst-final-project-db'} # название базы данных\n",
    "connection_string = 'postgresql://{}:{}@{}:{}/{}'.format(db_config['user'], \n",
    " db_config['pwd'], \n",
    " db_config['host'], \n",
    " db_config['port'], \n",
    " db_config['db']) \n",
    "# сохраняем коннектор\n",
    "engine = create_engine(connection_string, connect_args={'sslmode':'require'})"
   ]
  },
  {
   "cell_type": "code",
   "execution_count": 2,
   "id": "a08013c0",
   "metadata": {},
   "outputs": [],
   "source": [
    "#Изучим датасеты\n",
    "b_query = ''' SELECT * FROM books LIMIT 1 '''\n",
    "a_query = ''' SELECT * FROM authors LIMIT 1 '''\n",
    "p_query = ''' SELECT * FROM publishers LIMIT 1 '''\n",
    "r_query = ''' SELECT * FROM ratings LIMIT 1 '''\n",
    "rw_query = ''' SELECT * FROM reviews LIMIT 1 '''"
   ]
  },
  {
   "cell_type": "code",
   "execution_count": 3,
   "id": "57e8007e",
   "metadata": {},
   "outputs": [],
   "source": [
    "books = pd.io.sql.read_sql(b_query, con = engine)\n",
    "authors= pd.io.sql.read_sql(a_query, con = engine)\n",
    "publishers = pd.io.sql.read_sql(p_query, con = engine)\n",
    "ratings = pd.io.sql.read_sql(r_query, con = engine)\n",
    "reviews = pd.io.sql.read_sql(rw_query, con = engine)"
   ]
  },
  {
   "cell_type": "code",
   "execution_count": 4,
   "id": "c2156882",
   "metadata": {},
   "outputs": [
    {
     "data": {
      "text/html": [
       "<div>\n",
       "<style scoped>\n",
       "    .dataframe tbody tr th:only-of-type {\n",
       "        vertical-align: middle;\n",
       "    }\n",
       "\n",
       "    .dataframe tbody tr th {\n",
       "        vertical-align: top;\n",
       "    }\n",
       "\n",
       "    .dataframe thead th {\n",
       "        text-align: right;\n",
       "    }\n",
       "</style>\n",
       "<table border=\"1\" class=\"dataframe\">\n",
       "  <thead>\n",
       "    <tr style=\"text-align: right;\">\n",
       "      <th></th>\n",
       "      <th>book_id</th>\n",
       "      <th>author_id</th>\n",
       "      <th>title</th>\n",
       "      <th>num_pages</th>\n",
       "      <th>publication_date</th>\n",
       "      <th>publisher_id</th>\n",
       "    </tr>\n",
       "  </thead>\n",
       "  <tbody>\n",
       "    <tr>\n",
       "      <th>0</th>\n",
       "      <td>1</td>\n",
       "      <td>546</td>\n",
       "      <td>'Salem's Lot</td>\n",
       "      <td>594</td>\n",
       "      <td>2005-11-01</td>\n",
       "      <td>93</td>\n",
       "    </tr>\n",
       "  </tbody>\n",
       "</table>\n",
       "</div>"
      ],
      "text/plain": [
       "   book_id  author_id         title  num_pages publication_date  publisher_id\n",
       "0        1        546  'Salem's Lot        594       2005-11-01            93"
      ]
     },
     "metadata": {},
     "output_type": "display_data"
    },
    {
     "data": {
      "text/html": [
       "<div>\n",
       "<style scoped>\n",
       "    .dataframe tbody tr th:only-of-type {\n",
       "        vertical-align: middle;\n",
       "    }\n",
       "\n",
       "    .dataframe tbody tr th {\n",
       "        vertical-align: top;\n",
       "    }\n",
       "\n",
       "    .dataframe thead th {\n",
       "        text-align: right;\n",
       "    }\n",
       "</style>\n",
       "<table border=\"1\" class=\"dataframe\">\n",
       "  <thead>\n",
       "    <tr style=\"text-align: right;\">\n",
       "      <th></th>\n",
       "      <th>author_id</th>\n",
       "      <th>author</th>\n",
       "    </tr>\n",
       "  </thead>\n",
       "  <tbody>\n",
       "    <tr>\n",
       "      <th>0</th>\n",
       "      <td>1</td>\n",
       "      <td>A.S. Byatt</td>\n",
       "    </tr>\n",
       "  </tbody>\n",
       "</table>\n",
       "</div>"
      ],
      "text/plain": [
       "   author_id      author\n",
       "0          1  A.S. Byatt"
      ]
     },
     "metadata": {},
     "output_type": "display_data"
    },
    {
     "data": {
      "text/html": [
       "<div>\n",
       "<style scoped>\n",
       "    .dataframe tbody tr th:only-of-type {\n",
       "        vertical-align: middle;\n",
       "    }\n",
       "\n",
       "    .dataframe tbody tr th {\n",
       "        vertical-align: top;\n",
       "    }\n",
       "\n",
       "    .dataframe thead th {\n",
       "        text-align: right;\n",
       "    }\n",
       "</style>\n",
       "<table border=\"1\" class=\"dataframe\">\n",
       "  <thead>\n",
       "    <tr style=\"text-align: right;\">\n",
       "      <th></th>\n",
       "      <th>publisher_id</th>\n",
       "      <th>publisher</th>\n",
       "    </tr>\n",
       "  </thead>\n",
       "  <tbody>\n",
       "    <tr>\n",
       "      <th>0</th>\n",
       "      <td>1</td>\n",
       "      <td>Ace</td>\n",
       "    </tr>\n",
       "  </tbody>\n",
       "</table>\n",
       "</div>"
      ],
      "text/plain": [
       "   publisher_id publisher\n",
       "0             1       Ace"
      ]
     },
     "metadata": {},
     "output_type": "display_data"
    },
    {
     "data": {
      "text/html": [
       "<div>\n",
       "<style scoped>\n",
       "    .dataframe tbody tr th:only-of-type {\n",
       "        vertical-align: middle;\n",
       "    }\n",
       "\n",
       "    .dataframe tbody tr th {\n",
       "        vertical-align: top;\n",
       "    }\n",
       "\n",
       "    .dataframe thead th {\n",
       "        text-align: right;\n",
       "    }\n",
       "</style>\n",
       "<table border=\"1\" class=\"dataframe\">\n",
       "  <thead>\n",
       "    <tr style=\"text-align: right;\">\n",
       "      <th></th>\n",
       "      <th>rating_id</th>\n",
       "      <th>book_id</th>\n",
       "      <th>username</th>\n",
       "      <th>rating</th>\n",
       "    </tr>\n",
       "  </thead>\n",
       "  <tbody>\n",
       "    <tr>\n",
       "      <th>0</th>\n",
       "      <td>1</td>\n",
       "      <td>1</td>\n",
       "      <td>ryanfranco</td>\n",
       "      <td>4</td>\n",
       "    </tr>\n",
       "  </tbody>\n",
       "</table>\n",
       "</div>"
      ],
      "text/plain": [
       "   rating_id  book_id    username  rating\n",
       "0          1        1  ryanfranco       4"
      ]
     },
     "metadata": {},
     "output_type": "display_data"
    },
    {
     "data": {
      "text/html": [
       "<div>\n",
       "<style scoped>\n",
       "    .dataframe tbody tr th:only-of-type {\n",
       "        vertical-align: middle;\n",
       "    }\n",
       "\n",
       "    .dataframe tbody tr th {\n",
       "        vertical-align: top;\n",
       "    }\n",
       "\n",
       "    .dataframe thead th {\n",
       "        text-align: right;\n",
       "    }\n",
       "</style>\n",
       "<table border=\"1\" class=\"dataframe\">\n",
       "  <thead>\n",
       "    <tr style=\"text-align: right;\">\n",
       "      <th></th>\n",
       "      <th>review_id</th>\n",
       "      <th>book_id</th>\n",
       "      <th>username</th>\n",
       "      <th>text</th>\n",
       "    </tr>\n",
       "  </thead>\n",
       "  <tbody>\n",
       "    <tr>\n",
       "      <th>0</th>\n",
       "      <td>1</td>\n",
       "      <td>1</td>\n",
       "      <td>brandtandrea</td>\n",
       "      <td>Mention society tell send professor analysis. ...</td>\n",
       "    </tr>\n",
       "  </tbody>\n",
       "</table>\n",
       "</div>"
      ],
      "text/plain": [
       "   review_id  book_id      username  \\\n",
       "0          1        1  brandtandrea   \n",
       "\n",
       "                                                text  \n",
       "0  Mention society tell send professor analysis. ...  "
      ]
     },
     "execution_count": 4,
     "metadata": {},
     "output_type": "execute_result"
    }
   ],
   "source": [
    "display(books)\n",
    "display(authors)\n",
    "display(publishers)\n",
    "display(ratings)\n",
    "reviews"
   ]
  },
  {
   "cell_type": "code",
   "execution_count": 5,
   "id": "e4f6b1a8",
   "metadata": {},
   "outputs": [],
   "source": [
    "#Количество книг, вышедших после 1 января 2000 года;\n",
    "books_after_01_01_2000_query = (\n",
    "    '''\n",
    "    SELECT COUNT(book_id) as count_books_after_01_01_2000\n",
    "    FROM books\n",
    "    WHERE publication_date > '2000-01-01'\n",
    "    '''\n",
    ")\n",
    "\n"
   ]
  },
  {
   "cell_type": "code",
   "execution_count": 6,
   "id": "d6b86b5e",
   "metadata": {},
   "outputs": [],
   "source": [
    "books_after_01_01_2000 = pd.io.sql.read_sql(books_after_01_01_2000_query, con = engine)"
   ]
  },
  {
   "cell_type": "code",
   "execution_count": 7,
   "id": "fd4d6bb9",
   "metadata": {},
   "outputs": [
    {
     "data": {
      "text/html": [
       "<div>\n",
       "<style scoped>\n",
       "    .dataframe tbody tr th:only-of-type {\n",
       "        vertical-align: middle;\n",
       "    }\n",
       "\n",
       "    .dataframe tbody tr th {\n",
       "        vertical-align: top;\n",
       "    }\n",
       "\n",
       "    .dataframe thead th {\n",
       "        text-align: right;\n",
       "    }\n",
       "</style>\n",
       "<table border=\"1\" class=\"dataframe\">\n",
       "  <thead>\n",
       "    <tr style=\"text-align: right;\">\n",
       "      <th></th>\n",
       "      <th>count_books_after_01_01_2000</th>\n",
       "    </tr>\n",
       "  </thead>\n",
       "  <tbody>\n",
       "    <tr>\n",
       "      <th>0</th>\n",
       "      <td>819</td>\n",
       "    </tr>\n",
       "  </tbody>\n",
       "</table>\n",
       "</div>"
      ],
      "text/plain": [
       "   count_books_after_01_01_2000\n",
       "0                           819"
      ]
     },
     "execution_count": 7,
     "metadata": {},
     "output_type": "execute_result"
    }
   ],
   "source": [
    "books_after_01_01_2000"
   ]
  },
  {
   "cell_type": "code",
   "execution_count": 8,
   "id": "7f1c591f",
   "metadata": {},
   "outputs": [],
   "source": [
    "#Количество обзоров и средняя оценка у книг\n",
    "books_avg_query = (\n",
    "    '''\n",
    "    WITH\n",
    "    b AS (SELECT book_id, title\n",
    "          FROM books),\n",
    "    rw AS (SELECT book_id,\n",
    "                  COUNT(review_id) as count_reviews\n",
    "          FROM reviews\n",
    "          GROUP BY book_id),\n",
    "    r AS (SELECT book_id,\n",
    "                  AVG(rating) as avg_rating\n",
    "          FROM ratings\n",
    "          GROUP BY book_id)\n",
    "    SELECT b.book_id,\n",
    "           b.title,\n",
    "           rw.count_reviews,\n",
    "           r.avg_rating\n",
    "    FROM b\n",
    "    LEFT JOIN rw ON b.book_id=rw.book_id\n",
    "    LEFT JOIN r ON b.book_id=r.book_id \n",
    "    ORDER BY r.avg_rating DESC\n",
    "    '''\n",
    ")\n"
   ]
  },
  {
   "cell_type": "code",
   "execution_count": 9,
   "id": "3b756129",
   "metadata": {},
   "outputs": [],
   "source": [
    "books_avg = pd.io.sql.read_sql(books_avg_query, con = engine)"
   ]
  },
  {
   "cell_type": "code",
   "execution_count": 10,
   "id": "86024fa8",
   "metadata": {},
   "outputs": [
    {
     "data": {
      "text/html": [
       "<div>\n",
       "<style scoped>\n",
       "    .dataframe tbody tr th:only-of-type {\n",
       "        vertical-align: middle;\n",
       "    }\n",
       "\n",
       "    .dataframe tbody tr th {\n",
       "        vertical-align: top;\n",
       "    }\n",
       "\n",
       "    .dataframe thead th {\n",
       "        text-align: right;\n",
       "    }\n",
       "</style>\n",
       "<table border=\"1\" class=\"dataframe\">\n",
       "  <thead>\n",
       "    <tr style=\"text-align: right;\">\n",
       "      <th></th>\n",
       "      <th>book_id</th>\n",
       "      <th>title</th>\n",
       "      <th>count_reviews</th>\n",
       "      <th>avg_rating</th>\n",
       "    </tr>\n",
       "  </thead>\n",
       "  <tbody>\n",
       "    <tr>\n",
       "      <th>0</th>\n",
       "      <td>86</td>\n",
       "      <td>Arrows of the Queen (Heralds of Valdemar  #1)</td>\n",
       "      <td>2.0</td>\n",
       "      <td>5.00</td>\n",
       "    </tr>\n",
       "    <tr>\n",
       "      <th>1</th>\n",
       "      <td>901</td>\n",
       "      <td>The Walking Dead  Book One (The Walking Dead #...</td>\n",
       "      <td>2.0</td>\n",
       "      <td>5.00</td>\n",
       "    </tr>\n",
       "    <tr>\n",
       "      <th>2</th>\n",
       "      <td>390</td>\n",
       "      <td>Light in August</td>\n",
       "      <td>2.0</td>\n",
       "      <td>5.00</td>\n",
       "    </tr>\n",
       "    <tr>\n",
       "      <th>3</th>\n",
       "      <td>972</td>\n",
       "      <td>Wherever You Go  There You Are: Mindfulness Me...</td>\n",
       "      <td>2.0</td>\n",
       "      <td>5.00</td>\n",
       "    </tr>\n",
       "    <tr>\n",
       "      <th>4</th>\n",
       "      <td>136</td>\n",
       "      <td>Captivating: Unveiling the Mystery of a Woman'...</td>\n",
       "      <td>2.0</td>\n",
       "      <td>5.00</td>\n",
       "    </tr>\n",
       "    <tr>\n",
       "      <th>...</th>\n",
       "      <td>...</td>\n",
       "      <td>...</td>\n",
       "      <td>...</td>\n",
       "      <td>...</td>\n",
       "    </tr>\n",
       "    <tr>\n",
       "      <th>995</th>\n",
       "      <td>915</td>\n",
       "      <td>The World Is Flat: A Brief History of the Twen...</td>\n",
       "      <td>3.0</td>\n",
       "      <td>2.25</td>\n",
       "    </tr>\n",
       "    <tr>\n",
       "      <th>996</th>\n",
       "      <td>316</td>\n",
       "      <td>His Excellency: George Washington</td>\n",
       "      <td>2.0</td>\n",
       "      <td>2.00</td>\n",
       "    </tr>\n",
       "    <tr>\n",
       "      <th>997</th>\n",
       "      <td>202</td>\n",
       "      <td>Drowning Ruth</td>\n",
       "      <td>3.0</td>\n",
       "      <td>2.00</td>\n",
       "    </tr>\n",
       "    <tr>\n",
       "      <th>998</th>\n",
       "      <td>371</td>\n",
       "      <td>Junky</td>\n",
       "      <td>2.0</td>\n",
       "      <td>2.00</td>\n",
       "    </tr>\n",
       "    <tr>\n",
       "      <th>999</th>\n",
       "      <td>303</td>\n",
       "      <td>Harvesting the Heart</td>\n",
       "      <td>2.0</td>\n",
       "      <td>1.50</td>\n",
       "    </tr>\n",
       "  </tbody>\n",
       "</table>\n",
       "<p>1000 rows × 4 columns</p>\n",
       "</div>"
      ],
      "text/plain": [
       "     book_id                                              title  \\\n",
       "0         86      Arrows of the Queen (Heralds of Valdemar  #1)   \n",
       "1        901  The Walking Dead  Book One (The Walking Dead #...   \n",
       "2        390                                    Light in August   \n",
       "3        972  Wherever You Go  There You Are: Mindfulness Me...   \n",
       "4        136  Captivating: Unveiling the Mystery of a Woman'...   \n",
       "..       ...                                                ...   \n",
       "995      915  The World Is Flat: A Brief History of the Twen...   \n",
       "996      316                  His Excellency: George Washington   \n",
       "997      202                                      Drowning Ruth   \n",
       "998      371                                              Junky   \n",
       "999      303                               Harvesting the Heart   \n",
       "\n",
       "     count_reviews  avg_rating  \n",
       "0              2.0        5.00  \n",
       "1              2.0        5.00  \n",
       "2              2.0        5.00  \n",
       "3              2.0        5.00  \n",
       "4              2.0        5.00  \n",
       "..             ...         ...  \n",
       "995            3.0        2.25  \n",
       "996            2.0        2.00  \n",
       "997            3.0        2.00  \n",
       "998            2.0        2.00  \n",
       "999            2.0        1.50  \n",
       "\n",
       "[1000 rows x 4 columns]"
      ]
     },
     "execution_count": 10,
     "metadata": {},
     "output_type": "execute_result"
    }
   ],
   "source": [
    "books_avg"
   ]
  },
  {
   "cell_type": "code",
   "execution_count": 11,
   "id": "7e8fab1c",
   "metadata": {},
   "outputs": [],
   "source": [
    "#Издательство, которое выпустило наибольшее число книг толще 50 страниц \n",
    "best_publish_query = (\n",
    "    '''\n",
    "    SELECT publisher,\n",
    "           b.publisher_id,\n",
    "           COUNT(b.book_id) AS count_books\n",
    "    FROM books b\n",
    "    LEFT JOIN publishers AS p ON p.publisher_id=b.publisher_id\n",
    "    WHERE num_pages>50\n",
    "    GROUP BY b.publisher_id,\n",
    "             publisher  \n",
    "    ORDER BY count_books DESC\n",
    "    LIMIT 1\n",
    "    '''\n",
    ")"
   ]
  },
  {
   "cell_type": "code",
   "execution_count": 12,
   "id": "9a1d3311",
   "metadata": {},
   "outputs": [],
   "source": [
    "best_publish = pd.io.sql.read_sql(best_publish_query, con = engine)"
   ]
  },
  {
   "cell_type": "code",
   "execution_count": 13,
   "id": "9cfa3b05",
   "metadata": {},
   "outputs": [
    {
     "data": {
      "text/html": [
       "<div>\n",
       "<style scoped>\n",
       "    .dataframe tbody tr th:only-of-type {\n",
       "        vertical-align: middle;\n",
       "    }\n",
       "\n",
       "    .dataframe tbody tr th {\n",
       "        vertical-align: top;\n",
       "    }\n",
       "\n",
       "    .dataframe thead th {\n",
       "        text-align: right;\n",
       "    }\n",
       "</style>\n",
       "<table border=\"1\" class=\"dataframe\">\n",
       "  <thead>\n",
       "    <tr style=\"text-align: right;\">\n",
       "      <th></th>\n",
       "      <th>publisher</th>\n",
       "      <th>publisher_id</th>\n",
       "      <th>count_books</th>\n",
       "    </tr>\n",
       "  </thead>\n",
       "  <tbody>\n",
       "    <tr>\n",
       "      <th>0</th>\n",
       "      <td>Penguin Books</td>\n",
       "      <td>212</td>\n",
       "      <td>42</td>\n",
       "    </tr>\n",
       "  </tbody>\n",
       "</table>\n",
       "</div>"
      ],
      "text/plain": [
       "       publisher  publisher_id  count_books\n",
       "0  Penguin Books           212           42"
      ]
     },
     "execution_count": 13,
     "metadata": {},
     "output_type": "execute_result"
    }
   ],
   "source": [
    "best_publish"
   ]
  },
  {
   "cell_type": "markdown",
   "id": "f8f79650",
   "metadata": {},
   "source": [
    "Определите автора с самой высокой средней оценкой книг — учитывайте только книги с 50 и более оценками;"
   ]
  },
  {
   "cell_type": "code",
   "execution_count": 67,
   "id": "73ad7f9f",
   "metadata": {},
   "outputs": [],
   "source": [
    "#Автор с самой высокой средней оценкой книг\n",
    "#для книг с количеством оценок 50 и более\n",
    "top_author_query = (\n",
    "    '''\n",
    "    SELECT a.author,\n",
    "           AVG(rating) as avg_rating\n",
    "    FROM books b\n",
    "    LEFT JOIN  ratings r ON b.book_id=r.book_id \n",
    "    LEFT JOIN authors a ON a.author_id=b.author_id\n",
    "    WHERE b.book_id IN (SELECT book_id\n",
    "                        FROM ratings\n",
    "                        GROUP BY book_id\n",
    "                        HAVING COUNT(rating_id)>49                        \n",
    "                       )\n",
    "    GROUP BY a.author_id\n",
    "    ORDER BY avg_rating DESC\n",
    "    LIMIT 1\n",
    "    '''\n",
    ")"
   ]
  },
  {
   "cell_type": "code",
   "execution_count": 68,
   "id": "0dd934d6",
   "metadata": {},
   "outputs": [],
   "source": [
    "top_author = pd.io.sql.read_sql(top_author_query, con = engine)"
   ]
  },
  {
   "cell_type": "code",
   "execution_count": 69,
   "id": "f757ed3f",
   "metadata": {},
   "outputs": [
    {
     "data": {
      "text/html": [
       "<div>\n",
       "<style scoped>\n",
       "    .dataframe tbody tr th:only-of-type {\n",
       "        vertical-align: middle;\n",
       "    }\n",
       "\n",
       "    .dataframe tbody tr th {\n",
       "        vertical-align: top;\n",
       "    }\n",
       "\n",
       "    .dataframe thead th {\n",
       "        text-align: right;\n",
       "    }\n",
       "</style>\n",
       "<table border=\"1\" class=\"dataframe\">\n",
       "  <thead>\n",
       "    <tr style=\"text-align: right;\">\n",
       "      <th></th>\n",
       "      <th>author</th>\n",
       "      <th>avg_rating</th>\n",
       "    </tr>\n",
       "  </thead>\n",
       "  <tbody>\n",
       "    <tr>\n",
       "      <th>0</th>\n",
       "      <td>J.K. Rowling/Mary GrandPré</td>\n",
       "      <td>4.287097</td>\n",
       "    </tr>\n",
       "  </tbody>\n",
       "</table>\n",
       "</div>"
      ],
      "text/plain": [
       "                       author  avg_rating\n",
       "0  J.K. Rowling/Mary GrandPré    4.287097"
      ]
     },
     "execution_count": 69,
     "metadata": {},
     "output_type": "execute_result"
    }
   ],
   "source": [
    "top_author"
   ]
  },
  {
   "cell_type": "code",
   "execution_count": null,
   "id": "30395352",
   "metadata": {},
   "outputs": [],
   "source": [
    "#Среднее количество обзоров от пользователей,\n",
    "#которые поставаили больше 50 оценок\n",
    "avg_review_query = (\n",
    "    '''\n",
    "    WITH\n",
    "    r AS (SELECT username,\n",
    "                 COUNT(review_id)\n",
    "          FROM reviews rw\n",
    "          WHERE username IN (SELECT username\n",
    "                           FROM ratings\n",
    "                           GROUP BY username\n",
    "                           HAVING COUNT(rating_id)>50\n",
    "                           )\n",
    "          GROUP BY username)\n",
    "    SELECT AVG(count) AS avg_review_users_more_50_ratings\n",
    "    FROM r\n",
    "    '''\n",
    ")"
   ]
  },
  {
   "cell_type": "code",
   "execution_count": null,
   "id": "81be8fb2",
   "metadata": {},
   "outputs": [],
   "source": [
    "avg_review = pd.io.sql.read_sql(avg_review_query, con = engine)"
   ]
  },
  {
   "cell_type": "code",
   "execution_count": null,
   "id": "bed4fe10",
   "metadata": {},
   "outputs": [],
   "source": [
    "avg_review"
   ]
  },
  {
   "cell_type": "markdown",
   "id": "332b411b",
   "metadata": {},
   "source": [
    "## Вывод\n",
    "В данном проекте мы подключились к базе данных и выгрузили датасеты, используя SQL. В нашем распоряжении 5 таблиц и схема данных с указанием первичного и внешнего ключей. \n",
    "\n",
    "Первым шагом мы изучили, сколько у нас на сервисе книг из 21 века. Их количество составило 819 ед.\n",
    "Затем мы выгрузили книги с указанием количества обзоров и средних оценок, отсортировав по среднему рейтингу по убыванию. У лидеров средний рейтинг составляет 5.0, количество обзоров 2.0. Это говорит о том, что у книги очень мало оценок, поэтому пока доверять данным критериям не стоит.\n",
    "Лидером по наибольшему количеству, выпущенных книг, стал Penguin Books. Для оценки критерия «книга» мы поставили условие, что к «книге» мы относим издание свыше 50 страниц, с целью отсеять брошюры.\n",
    "При определении лучшего автора по средней оценке, мы учитывали количество оценок. Их должно было быть больше 50. При учете условия в количестве оценок, лидером стала Joanne Rowling с наибольшим средним рейтингом в 4.288.\n",
    "Наиболее активные пользователи, которые поставили свыше 50 оценок, периодически пишут обзоры. Среднее количество обзоров от таких пользователей составляет 24.3.\n",
    "\n",
    "Учитывая, полученные выше итоги, можно предложить следующую стратегию развития:\\\n",
    "•\tПополнение сервиса книгами 21 века.\\\n",
    "•\tУстановить на странице книге не только рейтинг книги и количество обзоров, но и количество пользователей, оценивших книгу, а также количество пользователей, прочитавших книгу. Это поможет и пользователям, и владельцам сервиса понимать наиболее интересные/востребованные книги.\\\n",
    "•\tОпределенно следует взаимодействовать с издателями такими, как Penguin Books. Так как у таких издателей большое количество, выпускаемых книг. Это позволит увеличить библиотеку сервиса.\\\n",
    "•\tНа главной странице сайта/приложения следует расположить раздел с авторами, средний рейтинг которых выше 4 (при количестве оценок больше 50). Скорее всего книги этих авторов являются бестселлерами.\\ \n",
    "•\tВзаимодействие пользователей с приложением сильно помогает понимание клиента, как следствие развитие бизнеса. Можно продумать систему подарков или скидок для пользователей написавших больше 20 обзоров и поставивших больше 50 оценок в год."
   ]
  }
 ],
 "metadata": {
  "ExecuteTimeLog": [
   {
    "duration": 13868,
    "start_time": "2023-01-12T19:30:38.339Z"
   },
   {
    "duration": 3,
    "start_time": "2023-01-12T19:30:52.209Z"
   },
   {
    "duration": 99,
    "start_time": "2023-01-12T19:30:52.214Z"
   },
   {
    "duration": 40,
    "start_time": "2023-01-12T19:30:52.316Z"
   },
   {
    "duration": 17,
    "start_time": "2023-01-12T19:30:52.358Z"
   },
   {
    "duration": 11,
    "start_time": "2023-01-12T19:30:52.377Z"
   },
   {
    "duration": 6,
    "start_time": "2023-01-12T19:30:52.389Z"
   },
   {
    "duration": 4,
    "start_time": "2023-01-12T19:30:52.397Z"
   },
   {
    "duration": 97,
    "start_time": "2023-01-12T19:30:52.403Z"
   },
   {
    "duration": 11,
    "start_time": "2023-01-12T19:30:52.503Z"
   },
   {
    "duration": 9,
    "start_time": "2023-01-12T19:30:52.516Z"
   },
   {
    "duration": 529,
    "start_time": "2023-01-12T19:30:52.532Z"
   },
   {
    "duration": 6,
    "start_time": "2023-01-12T19:30:53.063Z"
   },
   {
    "duration": 14,
    "start_time": "2023-01-12T19:30:53.071Z"
   },
   {
    "duration": 19,
    "start_time": "2023-01-12T19:30:53.086Z"
   },
   {
    "duration": 8,
    "start_time": "2023-01-12T19:30:53.106Z"
   },
   {
    "duration": 8,
    "start_time": "2023-01-12T19:30:53.116Z"
   },
   {
    "duration": 50,
    "start_time": "2023-01-12T19:30:53.126Z"
   },
   {
    "duration": 6,
    "start_time": "2023-01-12T19:30:53.178Z"
   },
   {
    "duration": 10927,
    "start_time": "2023-01-12T19:31:06.160Z"
   },
   {
    "duration": 3,
    "start_time": "2023-01-12T19:31:17.089Z"
   },
   {
    "duration": 109,
    "start_time": "2023-01-12T19:31:17.093Z"
   },
   {
    "duration": 32,
    "start_time": "2023-01-12T19:31:17.204Z"
   },
   {
    "duration": 38,
    "start_time": "2023-01-12T19:31:17.238Z"
   },
   {
    "duration": 38,
    "start_time": "2023-01-12T19:31:17.278Z"
   },
   {
    "duration": 57,
    "start_time": "2023-01-12T19:31:17.319Z"
   },
   {
    "duration": 29,
    "start_time": "2023-01-12T19:31:17.377Z"
   },
   {
    "duration": 73,
    "start_time": "2023-01-12T19:31:17.408Z"
   },
   {
    "duration": 13,
    "start_time": "2023-01-12T19:31:17.482Z"
   },
   {
    "duration": 24,
    "start_time": "2023-01-12T19:31:17.497Z"
   },
   {
    "duration": 55,
    "start_time": "2023-01-12T19:31:17.523Z"
   },
   {
    "duration": 18,
    "start_time": "2023-01-12T19:31:17.580Z"
   },
   {
    "duration": 60,
    "start_time": "2023-01-12T19:31:17.601Z"
   },
   {
    "duration": 48,
    "start_time": "2023-01-12T19:31:17.666Z"
   },
   {
    "duration": 27,
    "start_time": "2023-01-12T19:31:17.716Z"
   },
   {
    "duration": 45,
    "start_time": "2023-01-12T19:31:17.744Z"
   },
   {
    "duration": 90,
    "start_time": "2023-01-12T19:31:17.791Z"
   },
   {
    "duration": 6,
    "start_time": "2023-01-12T19:31:17.884Z"
   },
   {
    "duration": 8471,
    "start_time": "2023-01-13T05:50:39.689Z"
   },
   {
    "duration": 5,
    "start_time": "2023-01-13T05:50:48.162Z"
   },
   {
    "duration": 81,
    "start_time": "2023-01-13T05:50:48.169Z"
   },
   {
    "duration": 39,
    "start_time": "2023-01-13T05:50:48.253Z"
   },
   {
    "duration": 9,
    "start_time": "2023-01-13T05:50:48.294Z"
   },
   {
    "duration": 29,
    "start_time": "2023-01-13T05:50:48.305Z"
   },
   {
    "duration": 20,
    "start_time": "2023-01-13T05:50:48.337Z"
   },
   {
    "duration": 16,
    "start_time": "2023-01-13T05:50:48.359Z"
   },
   {
    "duration": 45,
    "start_time": "2023-01-13T05:50:48.377Z"
   },
   {
    "duration": 17,
    "start_time": "2023-01-13T05:50:48.425Z"
   },
   {
    "duration": 18,
    "start_time": "2023-01-13T05:50:48.444Z"
   },
   {
    "duration": 31,
    "start_time": "2023-01-13T05:50:48.465Z"
   },
   {
    "duration": 12,
    "start_time": "2023-01-13T05:50:48.498Z"
   },
   {
    "duration": 10,
    "start_time": "2023-01-13T05:50:48.512Z"
   },
   {
    "duration": 182,
    "start_time": "2023-01-13T05:50:48.524Z"
   },
   {
    "duration": 0,
    "start_time": "2023-01-13T05:50:48.709Z"
   },
   {
    "duration": 0,
    "start_time": "2023-01-13T05:50:48.710Z"
   },
   {
    "duration": 0,
    "start_time": "2023-01-13T05:50:48.711Z"
   },
   {
    "duration": 0,
    "start_time": "2023-01-13T05:50:48.713Z"
   },
   {
    "duration": 3,
    "start_time": "2023-01-13T05:51:12.639Z"
   },
   {
    "duration": 91,
    "start_time": "2023-01-13T05:51:13.108Z"
   },
   {
    "duration": 3,
    "start_time": "2023-01-13T05:54:07.349Z"
   },
   {
    "duration": 60,
    "start_time": "2023-01-13T05:54:12.375Z"
   },
   {
    "duration": 7,
    "start_time": "2023-01-13T05:54:13.539Z"
   },
   {
    "duration": 4,
    "start_time": "2023-01-13T05:54:36.760Z"
   },
   {
    "duration": 13,
    "start_time": "2023-01-13T05:54:37.620Z"
   },
   {
    "duration": 7,
    "start_time": "2023-01-13T05:54:38.388Z"
   },
   {
    "duration": 2,
    "start_time": "2023-01-13T05:55:37.780Z"
   },
   {
    "duration": 10,
    "start_time": "2023-01-13T05:55:38.309Z"
   },
   {
    "duration": 6,
    "start_time": "2023-01-13T05:55:38.712Z"
   },
   {
    "duration": 2,
    "start_time": "2023-01-13T05:56:02.040Z"
   },
   {
    "duration": 133,
    "start_time": "2023-01-13T05:56:02.320Z"
   },
   {
    "duration": 6,
    "start_time": "2023-01-13T05:56:02.767Z"
   },
   {
    "duration": 5,
    "start_time": "2023-01-13T05:58:24.264Z"
   },
   {
    "duration": 102,
    "start_time": "2023-01-13T05:58:25.129Z"
   },
   {
    "duration": 5,
    "start_time": "2023-01-13T05:58:43.860Z"
   },
   {
    "duration": 3,
    "start_time": "2023-01-13T05:59:29.997Z"
   },
   {
    "duration": 127,
    "start_time": "2023-01-13T05:59:31.007Z"
   },
   {
    "duration": 0,
    "start_time": "2023-01-13T05:59:31.137Z"
   },
   {
    "duration": 3,
    "start_time": "2023-01-13T05:59:45.247Z"
   },
   {
    "duration": 107,
    "start_time": "2023-01-13T05:59:45.647Z"
   },
   {
    "duration": 3,
    "start_time": "2023-01-13T05:59:54.137Z"
   },
   {
    "duration": 96,
    "start_time": "2023-01-13T05:59:55.240Z"
   },
   {
    "duration": 5,
    "start_time": "2023-01-13T06:00:09.978Z"
   },
   {
    "duration": 96,
    "start_time": "2023-01-13T06:00:12.296Z"
   },
   {
    "duration": 4,
    "start_time": "2023-01-13T06:02:21.873Z"
   },
   {
    "duration": 112,
    "start_time": "2023-01-13T06:02:22.465Z"
   },
   {
    "duration": 4,
    "start_time": "2023-01-13T06:02:28.853Z"
   },
   {
    "duration": 137,
    "start_time": "2023-01-13T06:02:29.596Z"
   },
   {
    "duration": 4,
    "start_time": "2023-01-13T06:02:48.317Z"
   },
   {
    "duration": 101,
    "start_time": "2023-01-13T06:02:48.807Z"
   },
   {
    "duration": 4,
    "start_time": "2023-01-13T06:02:54.345Z"
   },
   {
    "duration": 108,
    "start_time": "2023-01-13T06:02:55.224Z"
   },
   {
    "duration": 4,
    "start_time": "2023-01-13T06:03:02.156Z"
   },
   {
    "duration": 117,
    "start_time": "2023-01-13T06:03:03.337Z"
   },
   {
    "duration": 3,
    "start_time": "2023-01-13T06:04:17.957Z"
   },
   {
    "duration": 106,
    "start_time": "2023-01-13T06:04:18.937Z"
   },
   {
    "duration": 3,
    "start_time": "2023-01-13T06:04:28.512Z"
   },
   {
    "duration": 143,
    "start_time": "2023-01-13T06:04:30.166Z"
   },
   {
    "duration": 3,
    "start_time": "2023-01-13T06:05:20.045Z"
   },
   {
    "duration": 13,
    "start_time": "2023-01-13T06:05:20.432Z"
   },
   {
    "duration": 8,
    "start_time": "2023-01-13T06:05:23.207Z"
   },
   {
    "duration": 4,
    "start_time": "2023-01-13T06:05:58.818Z"
   },
   {
    "duration": 13,
    "start_time": "2023-01-13T06:05:59.298Z"
   },
   {
    "duration": 10,
    "start_time": "2023-01-13T06:05:59.777Z"
   },
   {
    "duration": 3,
    "start_time": "2023-01-13T06:06:07.035Z"
   },
   {
    "duration": 13,
    "start_time": "2023-01-13T06:06:08.298Z"
   },
   {
    "duration": 9,
    "start_time": "2023-01-13T06:06:09.049Z"
   },
   {
    "duration": 3,
    "start_time": "2023-01-13T06:07:16.547Z"
   },
   {
    "duration": 11,
    "start_time": "2023-01-13T06:07:16.873Z"
   },
   {
    "duration": 9,
    "start_time": "2023-01-13T06:07:17.392Z"
   },
   {
    "duration": 4,
    "start_time": "2023-01-13T06:07:30.625Z"
   },
   {
    "duration": 14,
    "start_time": "2023-01-13T06:07:30.699Z"
   },
   {
    "duration": 7,
    "start_time": "2023-01-13T06:07:31.100Z"
   },
   {
    "duration": 94,
    "start_time": "2023-01-13T06:08:45.640Z"
   }
  ],
  "kernelspec": {
   "display_name": "Python 3 (ipykernel)",
   "language": "python",
   "name": "python3"
  },
  "language_info": {
   "codemirror_mode": {
    "name": "ipython",
    "version": 3
   },
   "file_extension": ".py",
   "mimetype": "text/x-python",
   "name": "python",
   "nbconvert_exporter": "python",
   "pygments_lexer": "ipython3",
   "version": "3.9.13"
  },
  "toc": {
   "base_numbering": 1,
   "nav_menu": {},
   "number_sections": true,
   "sideBar": true,
   "skip_h1_title": true,
   "title_cell": "Table of Contents",
   "title_sidebar": "Contents",
   "toc_cell": false,
   "toc_position": {},
   "toc_section_display": true,
   "toc_window_display": false
  }
 },
 "nbformat": 4,
 "nbformat_minor": 5
}
